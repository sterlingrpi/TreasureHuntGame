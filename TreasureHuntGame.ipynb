{
 "cells": [
  {
   "cell_type": "markdown",
   "metadata": {},
   "source": [
    "# Treasure Hunt Game Notebook\n",
    "\n",
    "## Read and Review Your Starter Code\n",
    "The theme of this project is a popular treasure hunt game in which the player needs to find the treasure before the pirate does. While you will not be developing the entire game, you will write the part of the game that represents the intelligent agent, which is a pirate in this case. The pirate will try to find the optimal path to the treasure using deep Q-learning. \n",
    "\n",
    "You have been provided with two Python classes and this notebook to help you with this assignment. The first class, TreasureMaze.py, represents the environment, which includes a maze object defined as a matrix. The second class, GameExperience.py, stores the episodes – that is, all the states that come in between the initial state and the terminal state. This is later used by the agent for learning by experience, called \"exploration\". This notebook shows how to play a game. Your task is to complete the deep Q-learning implementation for which a skeleton implementation has been provided. The code blocks you will need to complete has #TODO as a header.\n",
    "\n",
    "First, read and review the next few code and instruction blocks to understand the code that you have been given."
   ]
  },
  {
   "cell_type": "code",
   "execution_count": 1,
   "metadata": {},
   "outputs": [],
   "source": [
    "from __future__ import print_function\n",
    "import os, sys, time, datetime, json, random\n",
    "import numpy as np\n",
    "from tensorflow.keras.models import Sequential\n",
    "from tensorflow.keras.layers import Dense, Activation, PReLU\n",
    "from tensorflow.keras.optimizers import SGD , Adam, RMSprop\n",
    "import matplotlib.pyplot as plt\n",
    "from TreasureMaze import TreasureMaze\n",
    "from GameExperience import GameExperience\n",
    "%matplotlib inline"
   ]
  },
  {
   "cell_type": "markdown",
   "metadata": {},
   "source": [
    "The following code block contains an 8x8 matrix that will be used as a maze object:"
   ]
  },
  {
   "cell_type": "code",
   "execution_count": 2,
   "metadata": {},
   "outputs": [],
   "source": [
    "maze = np.array([\n",
    "    [ 1.,  0.,  1.,  1.,  1.,  1.,  1.,  1.],\n",
    "    [ 1.,  0.,  1.,  1.,  1.,  0.,  1.,  1.],\n",
    "    [ 1.,  1.,  1.,  1.,  0.,  1.,  0.,  1.],\n",
    "    [ 1.,  1.,  1.,  0.,  1.,  1.,  1.,  1.],\n",
    "    [ 1.,  1.,  0.,  1.,  1.,  1.,  1.,  1.],\n",
    "    [ 1.,  1.,  1.,  0.,  1.,  0.,  0.,  0.],\n",
    "    [ 1.,  1.,  1.,  0.,  1.,  1.,  1.,  1.],\n",
    "    [ 1.,  1.,  1.,  1.,  0.,  1.,  1.,  1.]\n",
    "])"
   ]
  },
  {
   "cell_type": "markdown",
   "metadata": {},
   "source": [
    "This helper function allows a visual representation of the maze object:"
   ]
  },
  {
   "cell_type": "code",
   "execution_count": 3,
   "metadata": {},
   "outputs": [],
   "source": [
    "def show(qmaze):\n",
    "    plt.grid('on')\n",
    "    nrows, ncols = qmaze.maze.shape\n",
    "    ax = plt.gca()\n",
    "    ax.set_xticks(np.arange(0.5, nrows, 1))\n",
    "    ax.set_yticks(np.arange(0.5, ncols, 1))\n",
    "    ax.set_xticklabels([])\n",
    "    ax.set_yticklabels([])\n",
    "    canvas = np.copy(qmaze.maze)\n",
    "    for row,col in qmaze.visited:\n",
    "        canvas[row,col] = 0.6\n",
    "    pirate_row, pirate_col, _ = qmaze.state\n",
    "    canvas[pirate_row, pirate_col] = 0.3   # pirate cell\n",
    "    canvas[nrows-1, ncols-1] = 0.9 # treasure cell\n",
    "    img = plt.imshow(canvas, interpolation='none', cmap='gray')\n",
    "    return img"
   ]
  },
  {
   "cell_type": "markdown",
   "metadata": {},
   "source": [
    "The pirate agent can move in four directions: left, right, up, and down. \n",
    "\n",
    "While the agent primarily learns by experience through exploitation, often, the agent can choose to explore the environment to find previously undiscovered paths. This is called \"exploration\" and is defined by epsilon. This value is typically a lower value such as 0.1, which means for every ten attempts, the agent will attempt to learn by experience nine times and will randomly explore a new path one time. You are encouraged to try various values for the exploration factor and see how the algorithm performs."
   ]
  },
  {
   "cell_type": "code",
   "execution_count": 4,
   "metadata": {},
   "outputs": [],
   "source": [
    "LEFT = 0\n",
    "UP = 1\n",
    "RIGHT = 2\n",
    "DOWN = 3\n",
    "\n",
    "\n",
    "# Exploration factor\n",
    "epsilon = 0.1\n",
    "\n",
    "# Actions dictionary\n",
    "actions_dict = {\n",
    "    LEFT: 'left',\n",
    "    UP: 'up',\n",
    "    RIGHT: 'right',\n",
    "    DOWN: 'down',\n",
    "}\n",
    "\n",
    "num_actions = len(actions_dict)\n"
   ]
  },
  {
   "cell_type": "markdown",
   "metadata": {},
   "source": [
    "The sample code block and output below show creating a maze object and performing one action (DOWN), which returns the reward. The resulting updated environment is visualized."
   ]
  },
  {
   "cell_type": "code",
   "execution_count": 5,
   "metadata": {},
   "outputs": [
    {
     "name": "stdout",
     "output_type": "stream",
     "text": [
      "reward= -0.04\n"
     ]
    },
    {
     "data": {
      "text/plain": [
       "<matplotlib.image.AxesImage at 0x192d84e4ad0>"
      ]
     },
     "execution_count": 5,
     "metadata": {},
     "output_type": "execute_result"
    },
    {
     "data": {
      "image/png": "[encoded data removed]",
      "text/plain": [
       "<Figure size 640x480 with 1 Axes>"
      ]
     },
     "metadata": {},
     "output_type": "display_data"
    }
   ],
   "source": [
    "qmaze = TreasureMaze(maze)\n",
    "canvas, reward, game_over = qmaze.act(DOWN)\n",
    "print(\"reward=\", reward)\n",
    "show(qmaze)"
   ]
  },
  {
   "cell_type": "markdown",
   "metadata": {},
   "source": [
    "This function simulates a full game based on the provided trained model. The other parameters include the TreasureMaze object and the starting position of the pirate."
   ]
  },
  {
   "cell_type": "code",
   "execution_count": 6,
   "metadata": {},
   "outputs": [],
   "source": [
    "def play_game(model, qmaze, pirate_cell):\n",
    "    qmaze.reset(pirate_cell)\n",
    "    envstate = qmaze.observe()\n",
    "    while True:\n",
    "        prev_envstate = envstate\n",
    "        # get next action\n",
    "        q = model.predict(prev_envstate)\n",
    "        action = np.argmax(q[0])\n",
    "\n",
    "        # apply action, get rewards and new state\n",
    "        envstate, reward, game_status = qmaze.act(action)\n",
    "        if game_status == 'win':\n",
    "            return True\n",
    "        elif game_status == 'lose':\n",
    "            return False"
   ]
  },
  {
   "cell_type": "markdown",
   "metadata": {},
   "source": [
    "This function helps you to determine whether the pirate can win any game at all. If your maze is not well designed, the pirate may not win any game at all. In this case, your training would not yield any result. The provided maze in this notebook ensures that there is a path to win and you can run this method to check."
   ]
  },
  {
   "cell_type": "code",
   "execution_count": 7,
   "metadata": {},
   "outputs": [],
   "source": [
    "def completion_check(model, qmaze):\n",
    "    for cell in qmaze.free_cells:\n",
    "        if not qmaze.valid_actions(cell):\n",
    "            return False\n",
    "        if not play_game(model, qmaze, cell):\n",
    "            return False\n",
    "    return True"
   ]
  },
  {
   "cell_type": "markdown",
   "metadata": {},
   "source": [
    "The code you have been given in this block will build the neural network model. Review the code and note the number of layers, as well as the activation, optimizer, and loss functions that are used to train the model."
   ]
  },
  {
   "cell_type": "code",
   "execution_count": 167,
   "metadata": {},
   "outputs": [],
   "source": [
    "from tensorflow.keras.optimizers import Adam\n",
    "# def build_model(maze):\n",
    "#     model = Sequential()\n",
    "#     model.add(Dense(num_actions, input_shape=(maze.size,)))\n",
    "#     model.compile(optimizer=Adam(learning_rate=0.1), loss='mse')\n",
    "#     return model\n",
    "def build_model(maze):\n",
    "    model = Sequential()\n",
    "    model.add(Dense(maze.size, input_shape=(maze.size,)))\n",
    "    model.add(PReLU())\n",
    "    model.add(Dense(maze.size))\n",
    "    model.add(PReLU())\n",
    "    model.add(Dense(num_actions))\n",
    "    model.add(PReLU())\n",
    "    model.compile(optimizer='Adam', loss='mse')\n",
    "    return model"
   ]
  },
  {
   "cell_type": "markdown",
   "metadata": {},
   "source": [
    "# #TODO: Complete the Q-Training Algorithm Code Block\n",
    "\n",
    "This is your deep Q-learning implementation. The goal of your deep Q-learning implementation is to find the best possible navigation sequence that results in reaching the treasure cell while maximizing the reward. In your implementation, you need to determine the optimal number of epochs to achieve a 100% win rate.\n",
    "\n",
    "You will need to complete the section starting with #pseudocode. The pseudocode has been included for you."
   ]
  },
  {
   "cell_type": "code",
   "execution_count": 168,
   "metadata": {},
   "outputs": [
    {
     "name": "stderr",
     "output_type": "stream",
     "text": [
      "C:\\Users\\sterl\\anaconda3\\envs\\treasure_hunt\\Lib\\site-packages\\keras\\src\\layers\\core\\dense.py:88: UserWarning: Do not pass an `input_shape`/`input_dim` argument to a layer. When using Sequential models, prefer using an `Input(shape)` object as the first layer in the model instead.\n",
      "  super().__init__(activity_regularizer=activity_regularizer, **kwargs)\n"
     ]
    }
   ],
   "source": [
    "model = build_model(maze)"
   ]
  },
  {
   "cell_type": "code",
   "execution_count": 169,
   "metadata": {},
   "outputs": [],
   "source": [
    "#learn by actually iterating through the maze"
   ]
  },
  {
   "cell_type": "code",
   "execution_count": 170,
   "metadata": {},
   "outputs": [],
   "source": [
    "# init memory\n",
    "obs = []\n",
    "q_targets = []\n",
    "max_memory = 1000"
   ]
  },
  {
   "cell_type": "code",
   "execution_count": null,
   "metadata": {
    "scrolled": true
   },
   "outputs": [
    {
     "name": "stdout",
     "output_type": "stream",
     "text": [
      "14/14 - 0s - 3ms/step - loss: 0.0086\n",
      "14/14 - 0s - 3ms/step - loss: 0.0086\n",
      "14/14 - 0s - 3ms/step - loss: 0.0086\n",
      "14/14 - 0s - 4ms/step - loss: 0.0086\n",
      "14/14 - 0s - 3ms/step - loss: 0.0086\n",
      "14/14 - 0s - 3ms/step - loss: 0.0086\n",
      "14/14 - 0s - 3ms/step - loss: 0.0086\n",
      "15/15 - 0s - 2ms/step - loss: 0.0085\n",
      "15/15 - 0s - 3ms/step - loss: 0.0084\n",
      "15/15 - 0s - 3ms/step - loss: 0.0087\n",
      "15/15 - 0s - 3ms/step - loss: 0.0086\n",
      "15/15 - 0s - 3ms/step - loss: 0.0086\n",
      "15/15 - 0s - 2ms/step - loss: 0.0086\n",
      "15/15 - 0s - 3ms/step - loss: 0.0085\n",
      "15/15 - 0s - 2ms/step - loss: 0.0086\n",
      "15/15 - 0s - 2ms/step - loss: 0.0085\n",
      "15/15 - 0s - 3ms/step - loss: 0.0086\n",
      "15/15 - 0s - 3ms/step - loss: 0.0086\n",
      "15/15 - 0s - 3ms/step - loss: 0.0085\n",
      "15/15 - 0s - 3ms/step - loss: 0.0085\n",
      "15/15 - 0s - 3ms/step - loss: 0.0086\n",
      "15/15 - 0s - 3ms/step - loss: 0.0086\n",
      "15/15 - 0s - 3ms/step - loss: 0.0086\n",
      "15/15 - 0s - 3ms/step - loss: 0.0086\n",
      "15/15 - 0s - 3ms/step - loss: 0.0086\n",
      "15/15 - 0s - 3ms/step - loss: 0.0086\n",
      "15/15 - 0s - 3ms/step - loss: 0.0086\n",
      "15/15 - 0s - 3ms/step - loss: 0.0086\n",
      "15/15 - 0s - 3ms/step - loss: 0.0086\n",
      "15/15 - 0s - 3ms/step - loss: 0.0086\n",
      "15/15 - 0s - 3ms/step - loss: 0.0086\n",
      "15/15 - 0s - 3ms/step - loss: 0.0086\n",
      "15/15 - 0s - 3ms/step - loss: 0.0086\n",
      "15/15 - 0s - 3ms/step - loss: 0.0086\n",
      "15/15 - 0s - 3ms/step - loss: 0.0086\n",
      "15/15 - 0s - 3ms/step - loss: 0.0086\n",
      "15/15 - 0s - 3ms/step - loss: 0.0086\n",
      "15/15 - 0s - 3ms/step - loss: 0.0086\n",
      "15/15 - 0s - 2ms/step - loss: 0.0086\n",
      "16/16 - 0s - 2ms/step - loss: 0.0090\n",
      "16/16 - 0s - 3ms/step - loss: 0.0086\n",
      "16/16 - 0s - 2ms/step - loss: 0.0084\n",
      "16/16 - 0s - 3ms/step - loss: 0.0087\n",
      "16/16 - 0s - 3ms/step - loss: 0.0087\n",
      "16/16 - 0s - 2ms/step - loss: 0.0086\n",
      "16/16 - 0s - 3ms/step - loss: 0.0087\n",
      "16/16 - 0s - 3ms/step - loss: 0.0086\n",
      "16/16 - 0s - 3ms/step - loss: 0.0087\n",
      "16/16 - 0s - 2ms/step - loss: 0.0087\n",
      "16/16 - 0s - 2ms/step - loss: 0.0087\n",
      "16/16 - 0s - 3ms/step - loss: 0.0088\n",
      "16/16 - 0s - 2ms/step - loss: 0.0087\n",
      "16/16 - 0s - 3ms/step - loss: 0.0087\n",
      "16/16 - 0s - 3ms/step - loss: 0.0088\n",
      "16/16 - 0s - 3ms/step - loss: 0.0087\n",
      "16/16 - 0s - 3ms/step - loss: 0.0087\n",
      "16/16 - 0s - 3ms/step - loss: 0.0087\n",
      "16/16 - 0s - 3ms/step - loss: 0.0087\n",
      "16/16 - 0s - 3ms/step - loss: 0.0088\n",
      "16/16 - 0s - 2ms/step - loss: 0.0088\n",
      "16/16 - 0s - 3ms/step - loss: 0.0088\n",
      "16/16 - 0s - 3ms/step - loss: 0.0088\n",
      "16/16 - 0s - 3ms/step - loss: 0.0088\n",
      "16/16 - 0s - 3ms/step - loss: 0.0088\n",
      "16/16 - 0s - 3ms/step - loss: 0.0088\n",
      "16/16 - 0s - 3ms/step - loss: 0.0088\n"
     ]
    }
   ],
   "source": [
    "def get_action(qs, epsilon):\n",
    "    if epsilon > random.random():\n",
    "        return random.randint(0, num_actions - 1) # random action (explore)\n",
    "    else:\n",
    "        return np.argmax(qs0) # find action with highest expected Q (exploit) \n",
    "\n",
    "# init\n",
    "qmaze = TreasureMaze(maze)\n",
    "qmaze.reset((0,0))\n",
    "game_over = 'not_over'\n",
    "while(game_over == 'not_over'):\n",
    "    # get stuff on t=0\n",
    "    ob0 = qmaze.observe()\n",
    "    ob0 = np.where(ob0==0.5, 1, 0)\n",
    "    qs0 = model(ob0).numpy()[0]\n",
    "    epsilon = 0.1\n",
    "    action = get_action(qs0, epsilon)\n",
    "    canvas, reward, game_over = qmaze.act(action)\n",
    "\n",
    "    # get stuff on t=1\n",
    "    ob1 = qmaze.observe()\n",
    "    ob1 = np.where(ob1==0.5, 1, 0)\n",
    "    qs1 = model(ob1).numpy()[0]\n",
    "\n",
    "    # get Q temporal difference\n",
    "    q_target = qs0\n",
    "    gamma = 0.9\n",
    "    q_target[action] = reward + gamma*qs1.max()\n",
    "\n",
    "    # store data\n",
    "    obs.append(ob0[0])\n",
    "    q_targets.append(q_target)\n",
    "    if len(obs) > max_memory:\n",
    "        del obs[0]\n",
    "        del q_tragets[0]\n",
    "\n",
    "    # train\n",
    "    x = np.array(obs)\n",
    "    y = np.array(q_targets)\n",
    "    model.fit(x=x, y=y, epochs=1, verbose=2)\n",
    "print(game_over)"
   ]
  },
  {
   "cell_type": "code",
   "execution_count": null,
   "metadata": {},
   "outputs": [],
   "source": [
    "#test model"
   ]
  },
  {
   "cell_type": "code",
   "execution_count": 175,
   "metadata": {},
   "outputs": [],
   "source": [
    "starting_pos = (0,0)\n",
    "qmaze.reset(starting_pos)"
   ]
  },
  {
   "cell_type": "code",
   "execution_count": 189,
   "metadata": {},
   "outputs": [
    {
     "name": "stdout",
     "output_type": "stream",
     "text": [
      "[-1.1292002  -0.9107237  -1.1511074  -0.88468707]\n"
     ]
    },
    {
     "data": {
      "image/png": "[encoded data removed]",
      "text/plain": [
       "<Figure size 640x480 with 1 Axes>"
      ]
     },
     "metadata": {},
     "output_type": "display_data"
    }
   ],
   "source": [
    "ob = qmaze.observe()\n",
    "qs = model(ob).numpy()[0]\n",
    "action = np.argmax(qs)\n",
    "canvas, reward, game_over = qmaze.act(action)\n",
    "show(qmaze)\n",
    "print(qs)"
   ]
  },
  {
   "cell_type": "code",
   "execution_count": null,
   "metadata": {},
   "outputs": [],
   "source": [
    "#learn by always starting at random point"
   ]
  },
  {
   "cell_type": "code",
   "execution_count": 108,
   "metadata": {},
   "outputs": [],
   "source": [
    "def get_sim_data(size, epsilon, start):\n",
    "    # init\n",
    "    qmaze = TreasureMaze(maze)\n",
    "    obs = np.zeros(shape=(size, maze.size))\n",
    "    q_targets = np.zeros(shape=(size, num_actions))\n",
    "    for i in range(size):\n",
    "        # get random starting position\n",
    "        value = 0\n",
    "        while(value == 0):\n",
    "            random_pos = (random.randint(start[0], maze.shape[0] - 1), random.randint(start[1], maze.shape[1] - 1))\n",
    "            value = maze[random_pos]\n",
    "        qmaze.reset(random_pos)\n",
    "\n",
    "        # get stuff on t=0\n",
    "        ob0 = qmaze.observe()\n",
    "        ob0 = np.where(ob0==0.5, 1, 0)\n",
    "        qs0 = model(ob0).numpy()[0]\n",
    "        epsilon = 0.9\n",
    "        if epsilon > random.random():\n",
    "            action = random.randint(0, num_actions - 1) # random action (explore)\n",
    "        else:\n",
    "            action = np.argmax(qs0) # find action with highest expected Q (exploit)\n",
    "        canvas, reward, game_over = qmaze.act(action)\n",
    "\n",
    "        # get stuff on t=1\n",
    "        ob1 = qmaze.observe()\n",
    "        ob1 = np.where(ob1==0.5, 1, 0)\n",
    "        qs1 = model(ob1).numpy()[0]\n",
    "\n",
    "        # get Q temporal difference\n",
    "        q_target = qs0\n",
    "        gamma = 0.9\n",
    "        q_target[action] = reward + gamma*qs1.max()\n",
    "        \n",
    "        # store data\n",
    "        obs[i, :] = ob0\n",
    "        q_targets[i, :] = q_target\n",
    "        \n",
    "    return obs, q_targets"
   ]
  },
  {
   "cell_type": "code",
   "execution_count": 113,
   "metadata": {
    "scrolled": true
   },
   "outputs": [
    {
     "name": "stdout",
     "output_type": "stream",
     "text": [
      "0\n",
      "1\n",
      "2\n",
      "3\n",
      "4\n",
      "5\n",
      "6\n",
      "7\n",
      "8\n",
      "9\n",
      "10\n",
      "11\n",
      "12\n",
      "13\n",
      "14\n",
      "15\n",
      "16\n",
      "17\n",
      "18\n",
      "19\n",
      "20\n",
      "21\n",
      "22\n",
      "23\n",
      "24\n",
      "25\n",
      "26\n",
      "27\n",
      "28\n",
      "29\n",
      "30\n",
      "31\n",
      "32\n",
      "33\n",
      "34\n",
      "35\n",
      "36\n",
      "37\n",
      "38\n",
      "39\n",
      "40\n",
      "41\n",
      "42\n",
      "43\n",
      "44\n",
      "45\n",
      "46\n",
      "47\n",
      "48\n",
      "49\n",
      "50\n",
      "51\n",
      "52\n",
      "53\n",
      "54\n",
      "55\n",
      "56\n",
      "57\n",
      "58\n",
      "59\n",
      "60\n",
      "61\n",
      "62\n",
      "63\n",
      "64\n",
      "65\n",
      "66\n",
      "67\n",
      "68\n",
      "69\n",
      "70\n",
      "71\n",
      "72\n",
      "73\n",
      "74\n",
      "75\n",
      "76\n",
      "77\n",
      "78\n",
      "79\n",
      "80\n",
      "81\n",
      "82\n",
      "83\n",
      "84\n",
      "85\n",
      "86\n",
      "87\n",
      "88\n",
      "89\n",
      "90\n",
      "91\n",
      "92\n",
      "93\n",
      "94\n",
      "95\n",
      "96\n",
      "97\n",
      "98\n",
      "99\n"
     ]
    }
   ],
   "source": [
    "for i in range(100):\n",
    "    print(i)\n",
    "    obs, q_targets = get_sim_data(size=100, epsilon=1, start=(0,0))\n",
    "    model.fit(x=obs, y=q_targets, epochs=1, verbose=0)"
   ]
  },
  {
   "cell_type": "code",
   "execution_count": 108,
   "metadata": {},
   "outputs": [],
   "source": [
    "#test model"
   ]
  },
  {
   "cell_type": "code",
   "execution_count": 111,
   "metadata": {},
   "outputs": [],
   "source": [
    "starting_pos = (6,6)\n",
    "qmaze.reset(starting_pos)"
   ]
  },
  {
   "cell_type": "code",
   "execution_count": 112,
   "metadata": {},
   "outputs": [
    {
     "name": "stdout",
     "output_type": "stream",
     "text": [
      "[ 0.09563959 -0.08004127  0.03959816 -0.03999307]\n",
      "0\n",
      "reward -0.04\n"
     ]
    },
    {
     "data": {
      "image/png": "[encoded data removed]",
      "text/plain": [
       "<Figure size 640x480 with 1 Axes>"
      ]
     },
     "metadata": {},
     "output_type": "display_data"
    }
   ],
   "source": [
    "ob = qmaze.observe()\n",
    "qs = model(ob).numpy()[0]\n",
    "action = np.argmax(qs)\n",
    "canvas, reward, game_over = qmaze.act(action)\n",
    "show(qmaze)\n",
    "print(qs)\n",
    "print(action)\n",
    "print('reward', reward)"
   ]
  },
  {
   "cell_type": "code",
   "execution_count": null,
   "metadata": {},
   "outputs": [],
   "source": [
    "def qtrain(model, maze, **opt):\n",
    "\n",
    "    # exploration factor\n",
    "    global epsilon \n",
    "\n",
    "    # number of epochs\n",
    "    n_epoch = opt.get('n_epoch', 15000)\n",
    "\n",
    "    # maximum memory to store episodes\n",
    "    max_memory = opt.get('max_memory', 1000)\n",
    "\n",
    "    # maximum data size for training\n",
    "    data_size = opt.get('data_size', 50)\n",
    "\n",
    "    # start time\n",
    "    start_time = datetime.datetime.now()\n",
    "\n",
    "    # Construct environment/game from numpy array: maze (see above)\n",
    "    qmaze = TreasureMaze(maze)\n",
    "\n",
    "    # Initialize experience replay object\n",
    "    experience = GameExperience(model, max_memory=max_memory)\n",
    "    \n",
    "    win_history = []   # history of win/lose game\n",
    "    hsize = qmaze.maze.size//2   # history window size\n",
    "    win_rate = 0.0\n",
    "    \n",
    "    # pseudocode:\n",
    "    # For each epoch:\n",
    "    #    Agent_cell = randomly select a free cell\n",
    "    #    Reset the maze with agent set to above position\n",
    "    #    Hint: Review the reset method in the TreasureMaze.py class.\n",
    "    #    envstate = Environment.current_state\n",
    "    #    Hint: Review the observe method in the TreasureMaze.py class.\n",
    "    #    While state is not game over:\n",
    "    #        previous_envstate = envstate\n",
    "    #        Action = randomly choose action (left, right, up, down) either by exploration or by exploitation\n",
    "    #        envstate, reward, game_status = qmaze.act(action)\n",
    "    #    Hint: Review the act method in the TreasureMaze.py class.\n",
    "    #        episode = [previous_envstate, action, reward, envstate, game_status]\n",
    "    #        Store episode in Experience replay object\n",
    "    #    Hint: Review the remember method in the GameExperience.py class.\n",
    "    #        Train neural network model and evaluate loss\n",
    "    #    Hint: Call GameExperience.get_data to retrieve training data (input and target) and pass to model.fit method \n",
    "    #          to train the model. You can call model.evaluate to determine loss.\n",
    "    #    If the win rate is above the threshold and your model passes the completion check, that would be your epoch.\n",
    "\n",
    "\n",
    "        #Print the epoch, loss, episodes, win count, and win rate for each epoch\n",
    "        dt = datetime.datetime.now() - start_time\n",
    "        t = format_time(dt.total_seconds())\n",
    "        template = \"Epoch: {:03d}/{:d} | Loss: {:.4f} | Episodes: {:d} | Win count: {:d} | Win rate: {:.3f} | time: {}\"\n",
    "        print(template.format(epoch, n_epoch-1, loss, n_episodes, sum(win_history), win_rate, t))\n",
    "        # We simply check if training has exhausted all free cells and if in all\n",
    "        # cases the agent won.\n",
    "        if win_rate > 0.9 : epsilon = 0.05\n",
    "        if sum(win_history[-hsize:]) == hsize and completion_check(model, qmaze):\n",
    "            print(\"Reached 100%% win rate at epoch: %d\" % (epoch,))\n",
    "            break\n",
    "    \n",
    "    \n",
    "    # Determine the total time for training\n",
    "    dt = datetime.datetime.now() - start_time\n",
    "    seconds = dt.total_seconds()\n",
    "    t = format_time(seconds)\n",
    "\n",
    "    print(\"n_epoch: %d, max_mem: %d, data: %d, time: %s\" % (epoch, max_memory, data_size, t))\n",
    "    return seconds\n",
    "\n",
    "# This is a small utility for printing readable time strings:\n",
    "def format_time(seconds):\n",
    "    if seconds < 400:\n",
    "        s = float(seconds)\n",
    "        return \"%.1f seconds\" % (s,)\n",
    "    elif seconds < 4000:\n",
    "        m = seconds / 60.0\n",
    "        return \"%.2f minutes\" % (m,)\n",
    "    else:\n",
    "        h = seconds / 3600.0\n",
    "        return \"%.2f hours\" % (h,)"
   ]
  },
  {
   "cell_type": "markdown",
   "metadata": {},
   "source": [
    "## Test Your Model\n",
    "\n",
    "Now we will start testing the deep Q-learning implementation. To begin, select **Cell**, then **Run All** from the menu bar. This will run your notebook. As it runs, you should see output begin to appear beneath the next few cells. The code below creates an instance of TreasureMaze."
   ]
  },
  {
   "cell_type": "code",
   "execution_count": null,
   "metadata": {},
   "outputs": [],
   "source": [
    "qmaze = TreasureMaze(maze)\n",
    "show(qmaze)"
   ]
  },
  {
   "cell_type": "markdown",
   "metadata": {},
   "source": [
    "In the next code block, you will build your model and train it using deep Q-learning. Note: This step takes several minutes to fully run."
   ]
  },
  {
   "cell_type": "code",
   "execution_count": null,
   "metadata": {},
   "outputs": [],
   "source": [
    "model = build_model(maze)\n",
    "qtrain(model, maze, epochs=1000, max_memory=8*maze.size, data_size=32)"
   ]
  },
  {
   "cell_type": "markdown",
   "metadata": {},
   "source": [
    "This cell will check to see if the model passes the completion check. Note: This could take several minutes."
   ]
  },
  {
   "cell_type": "code",
   "execution_count": null,
   "metadata": {},
   "outputs": [],
   "source": [
    "completion_check(model, qmaze)\n",
    "show(qmaze)"
   ]
  },
  {
   "cell_type": "markdown",
   "metadata": {},
   "source": [
    "This cell will test your model for one game. It will start the pirate at the top-left corner and run play_game. The agent should find a path from the starting position to the target (treasure). The treasure is located in the bottom-right corner."
   ]
  },
  {
   "cell_type": "code",
   "execution_count": null,
   "metadata": {},
   "outputs": [],
   "source": [
    "pirate_start = (0, 0)\n",
    "play_game(model, qmaze, pirate_start)\n",
    "show(qmaze)"
   ]
  },
  {
   "cell_type": "markdown",
   "metadata": {},
   "source": [
    "## Save and Submit Your Work\n",
    "After you have finished creating the code for your notebook, save your work. Make sure that your notebook contains your name in the filename (e.g. Doe_Jane_ProjectTwo.ipynb). This will help your instructor access and grade your work easily. Download a copy of your IPYNB file and submit it to Brightspace. Refer to the Jupyter Notebook in Apporto Tutorial if you need help with these tasks."
   ]
  }
 ],
 "metadata": {
  "kernelspec": {
   "display_name": "Python 3 (ipykernel)",
   "language": "python",
   "name": "python3"
  },
  "language_info": {
   "codemirror_mode": {
    "name": "ipython",
    "version": 3
   },
   "file_extension": ".py",
   "mimetype": "text/x-python",
   "name": "python",
   "nbconvert_exporter": "python",
   "pygments_lexer": "ipython3",
   "version": "3.12.2"
  }
 },
 "nbformat": 4,
 "nbformat_minor": 4
}
